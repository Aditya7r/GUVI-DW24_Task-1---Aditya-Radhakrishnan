{
 "cells": [
  {
   "cell_type": "code",
   "execution_count": 27,
   "id": "2a12f4c0",
   "metadata": {},
   "outputs": [],
   "source": [
    "import re\n",
    "import csv\n",
    "\n",
    "def register():\n",
    "  usr_namecheck = 0\n",
    "  a = '@'\n",
    "  b = '.'\n",
    "    \n",
    "  email_id = input('Enter username: ')\n",
    "\n",
    "  special_char = re.finditer('[0-9\\W]',email_id)\n",
    "\n",
    "  if a not in email_id:  #check if @ not in email_id\n",
    "    usr_namecheck = 1\n",
    "\n",
    "  if b not in email_id: #check if . not in email_id\n",
    "    usr_namecheck = 1\n",
    "\n",
    "  if a in email_id[0]:  #@ should not be first character\n",
    "    usr_namecheck = 1\n",
    "\n",
    "  if int(email_id.index(a))+1 == int(email_id.index(b)): # . should not follow @ immediately\n",
    "    usr_namecheck = 1 # . can precede @ (aditya.radhakrishnan@gmail.com is a valid email)\n",
    "\n",
    "  for i in special_char:   #email_id must not start with special character\n",
    "    if i.start() == 0:\n",
    "      usr_namecheck = 1\n",
    "\n",
    "  if usr_namecheck != 0:  #if above conditions not followed\n",
    "    print('Username does not satify required parameters')\n",
    "\n",
    "\n",
    "  pswcheck = 0\n",
    "\n",
    "  password = input(\"Enter the password: \")\n",
    "\n",
    "  if not re.search('[a-z]', password): #check if password does not have atleast one lower case\n",
    "    pswcheck = 1\n",
    "    \n",
    "  if not re.search('[0-9]', password): #check if password does not have atleast one number\n",
    "    pswcheck = 1\n",
    "    \n",
    "  if not re.search('[A-Z]', password): #check if password does not have atleast one upper case\n",
    "    pswcheck = 1\n",
    "    \n",
    "  if not re.search('[\\W]', password): #check if password does not have atleast one special character\n",
    "    pswcheck =  1\n",
    "    \n",
    "  if len(password)<5: #check if password has minimum of 5 character\n",
    "    pswcheck = 1\n",
    "    \n",
    "  if len(password)>16: #check if password has maximum of 16 character\n",
    "    pswcheck =1\n",
    "    \n",
    "  if (pswcheck != 0): #if above conditions not followed\n",
    "    print (\"Password does not satify required parameters\")\n",
    "    \n",
    "  else: #if all are satified email_id and password are stored in a txt file. New data is appended in next line\n",
    "    with open('UserData.txt', 'a') as f:\n",
    "      f.write(email_id)\n",
    "      f.write(',')\n",
    "      f.write(password)\n",
    "      f.write(\"\\n\")\n",
    "        \n",
    "def login():\n",
    "  with open(\"UserData.txt\", \"r\") as file:\n",
    "    file_reader = csv.reader(file)\n",
    "    user_find(file_reader) #find if user exist\n",
    "    file.close()\n",
    "    \n",
    "\n",
    "def user_find(file):\n",
    "  user = input(\"Enter your Username: \")\n",
    "  for row in file: #check whether the username is in the file\n",
    "    if row[0] == user:\n",
    "      f = 1\n",
    "      break\n",
    "    else:\n",
    "      f = 0\n",
    "      \n",
    "  if f==1:\n",
    "    print(\"Username valid:\", user)     \n",
    "    user_found = [row[0],row[1]]\n",
    "    pass_check(user_found)\n",
    "  if f==0:\n",
    "    print(\"Username not found, please register\")\n",
    "    \n",
    "    \n",
    "def pass_check(user_found):\n",
    "  user = input(\"Enter your password: \")\n",
    "  if user_found[1] == user: #check if password matches with username\n",
    "    print(\"Password is matching, you are loggged in\")\n",
    "  else:\n",
    "    print(\"Invalid Password\")\n",
    "    \n",
    "def forgot_password():\n",
    "    user = input(\"Enter your Username: \")\n",
    "    with open(\"UserData.txt\") as file1:\n",
    "      filecontents = file1.read().split(',')\n",
    "\n",
    "    filecontents =  [i.split('\\n', 1)[0] for i in filecontents]\n",
    "    \n",
    "    if user in filecontents: #if the username exists in the file, password is provided\n",
    "      print('Your password is:',filecontents[int(filecontents.index(user)+1)])\n",
    "    else:\n",
    "      print('Username not found, please register') #if username does not match, request user to register"
   ]
  },
  {
   "cell_type": "code",
   "execution_count": 24,
   "id": "30b6d0af",
   "metadata": {},
   "outputs": [
    {
     "name": "stdout",
     "output_type": "stream",
     "text": [
      "Enter username: elon.musk@dogecoin.com\n",
      "Enter the password: Tesla123$\n"
     ]
    }
   ],
   "source": [
    "register()"
   ]
  },
  {
   "cell_type": "code",
   "execution_count": 29,
   "id": "1967832d",
   "metadata": {},
   "outputs": [
    {
     "name": "stdout",
     "output_type": "stream",
     "text": [
      "Enter your Username: elon.musk@dogecoin.com\n",
      "Username valid: elon.musk@dogecoin.com\n",
      "Enter your password: Tesla123$\n",
      "Password is matching, you are loggged in\n"
     ]
    }
   ],
   "source": [
    "login()"
   ]
  },
  {
   "cell_type": "code",
   "execution_count": 30,
   "id": "87c52512",
   "metadata": {},
   "outputs": [
    {
     "name": "stdout",
     "output_type": "stream",
     "text": [
      "Enter your Username: elonmusk@tesla.com\n",
      "Your password is: Dogecoin@123$\n"
     ]
    }
   ],
   "source": [
    "forgot_password()"
   ]
  }
 ],
 "metadata": {
  "kernelspec": {
   "display_name": "Python 3 (ipykernel)",
   "language": "python",
   "name": "python3"
  },
  "language_info": {
   "codemirror_mode": {
    "name": "ipython",
    "version": 3
   },
   "file_extension": ".py",
   "mimetype": "text/x-python",
   "name": "python",
   "nbconvert_exporter": "python",
   "pygments_lexer": "ipython3",
   "version": "3.9.12"
  }
 },
 "nbformat": 4,
 "nbformat_minor": 5
}
